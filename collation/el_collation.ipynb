{
 "metadata": {
  "language_info": {
   "codemirror_mode": {
    "name": "ipython",
    "version": 3
   },
   "file_extension": ".py",
   "mimetype": "text/x-python",
   "name": "python",
   "nbconvert_exporter": "python",
   "pygments_lexer": "ipython3",
   "version": "3.8.1-final"
  },
  "orig_nbformat": 2,
  "kernelspec": {
   "name": "python38164bitelvenv4826213c90d342108f888ae4254b6375",
   "display_name": "Python 3.8.1 64-bit ('el': venv)"
  }
 },
 "nbformat": 4,
 "nbformat_minor": 2,
 "cells": [
  {
   "source": [
    "# Collation\n",
    "\n",
    "An alternative for `sorted()` using `icu.Collator` and `icu.RuleBasedCollator`. Currently supports lists, tuples, strings, dataframes and series.\n",
    "\n",
    "Custom collation rules are defined for Dinka and Akan.\n",
    "\n",
    "All icu::Collator supported locales are available.\n",
    "\n",
    "__TODO:__\n",
    "\n",
    "* add support for numpy arrays\n",
    "* add support for dicts [[1]](https://stackoverflow.com/questions/38793694/python-sort-a-list-of-objects-dictionaries-with-a-given-sortkey-function)\n",
    "* allow user to define colation rules and pass them to `el_collation.sorted_`\n",
    "* allow user to modify collation rules provided by ICU locales"
   ],
   "cell_type": "markdown",
   "metadata": {}
  },
  {
   "source": [],
   "cell_type": "markdown",
   "metadata": {}
  },
  {
   "cell_type": "code",
   "execution_count": 2,
   "metadata": {},
   "outputs": [],
   "source": [
    "import pandas as pd\n",
    "import el_collation as elcol\n",
    "import random\n"
   ]
  },
  {
   "source": [
    "## Custom Collation Rules (unsupported locales)\n",
    "\n",
    "The following examples will be using predefined collation rules for Dinka."
   ],
   "cell_type": "markdown",
   "metadata": {}
  },
  {
   "cell_type": "code",
   "execution_count": 3,
   "metadata": {},
   "outputs": [
    {
     "output_type": "execute_result",
     "data": {
      "text/plain": [
       "('agook',\n",
       " 'abeeric',\n",
       " 'abuɔk',\n",
       " 'agol',\n",
       " 'acuut',\n",
       " 'abany',\n",
       " 'abur',\n",
       " 'abëër',\n",
       " 'abaany',\n",
       " 'aber',\n",
       " 'akɔ̈r',\n",
       " 'acut',\n",
       " 'acuth',\n",
       " 'abenh',\n",
       " 'abeer',\n",
       " 'akuny',\n",
       " 'ago',\n",
       " 'akɔrcok',\n",
       " 'akuŋɛŋ',\n",
       " 'abuɔ̈k',\n",
       " 'aberŋic',\n",
       " 'abuɔɔk',\n",
       " 'abeŋ',\n",
       " 'abuɔ̈c',\n",
       " 'abaŋ')"
      ]
     },
     "metadata": {},
     "execution_count": 3
    }
   ],
   "source": [
    "# Set language\n",
    "lang = \"din-SS\"\n",
    "# Provide Dinka lexemes\n",
    "ordered_lexemes_tuple = (\n",
    "    'abany',\n",
    "    'abaany',\n",
    "    'abaŋ',\n",
    "    'abenh',\n",
    "    'abeŋ',\n",
    "    'aber',\n",
    "    'abeer',\n",
    "    'abëër',\n",
    "    'abeeric',\n",
    "    'aberŋic',\n",
    "    'abuɔ̈c',\n",
    "    'abuɔk',\n",
    "    'abuɔɔk',\n",
    "    'abuɔ̈k',\n",
    "    'abur',\n",
    "    'acut',\n",
    "    'acuut',\n",
    "    'acuth',\n",
    "    'ago',\n",
    "    'agook',\n",
    "    'agol',\n",
    "    'akɔ̈r',\n",
    "    'akɔrcok',\n",
    "    'akuny',\n",
    "    'akuŋɛŋ'\n",
    ")\n",
    "\n",
    "# Ensure lexeme order is randomised\n",
    "random.seed(5)\n",
    "random_lexemes = tuple(random.sample(ordered_lexemes_tuple, len(ordered_lexemes_tuple)))\n",
    "random_lexemes"
   ]
  },
  {
   "cell_type": "code",
   "execution_count": 4,
   "metadata": {},
   "outputs": [
    {
     "output_type": "execute_result",
     "data": {
      "text/plain": [
       "('abany',\n",
       " 'abaany',\n",
       " 'abaŋ',\n",
       " 'abenh',\n",
       " 'abeŋ',\n",
       " 'aber',\n",
       " 'abeer',\n",
       " 'abëër',\n",
       " 'abeeric',\n",
       " 'aberŋic',\n",
       " 'abuɔ̈c',\n",
       " 'abuɔk',\n",
       " 'abuɔɔk',\n",
       " 'abuɔ̈k',\n",
       " 'abur',\n",
       " 'acut',\n",
       " 'acuut',\n",
       " 'acuth',\n",
       " 'ago',\n",
       " 'agook',\n",
       " 'agol',\n",
       " 'akɔ̈r',\n",
       " 'akɔrcok',\n",
       " 'akuny',\n",
       " 'akuŋɛŋ')"
      ]
     },
     "metadata": {},
     "execution_count": 4
    }
   ],
   "source": [
    "# Sort randomised tuple of Dinka lexemes\n",
    "sorted_lexemes = elcol.sorted_(random_lexemes, lang)\n",
    "sorted_lexemes"
   ]
  },
  {
   "source": [
    "### Pandas dataframes\n",
    "\n"
   ],
   "cell_type": "markdown",
   "metadata": {}
  },
  {
   "cell_type": "code",
   "execution_count": 4,
   "metadata": {},
   "outputs": [
    {
     "output_type": "execute_result",
     "data": {
      "text/plain": [
       "          Form  Frequency\n",
       "0            a    1043535\n",
       "1           aa   10106358\n",
       "22         aba     498635\n",
       "23         abä     210763\n",
       "2         aaba     102811\n",
       "3         aabä      46265\n",
       "25        abak      77108\n",
       "26        abäk     128514\n",
       "27      abäkke      20562\n",
       "28        abaŋ     154217\n",
       "24       abaar      56546\n",
       "29      Abaram     616868\n",
       "30        Abel      35983\n",
       "31        aben      71967\n",
       "32       abɛ̈k     190201\n",
       "4       aabɛ̈l      10281\n",
       "33        abɛn      41124\n",
       "34         abï    4297515\n",
       "36        abïï      25702\n",
       "5         aabï    2416067\n",
       "35       abiëc     195341\n",
       "37       Abija      15421\n",
       "38        abïk     179919\n",
       "39       abiök      30843\n",
       "42      abiöök      35983\n",
       "40  abiökruɛɛl      10281\n",
       "41       abiöŋ      20562\n",
       "43       Abiöt      10281\n",
       "44      abiöth      56546\n",
       "45        abit      10281"
      ],
      "text/html": "<div>\n<style scoped>\n    .dataframe tbody tr th:only-of-type {\n        vertical-align: middle;\n    }\n\n    .dataframe tbody tr th {\n        vertical-align: top;\n    }\n\n    .dataframe thead th {\n        text-align: right;\n    }\n</style>\n<table border=\"1\" class=\"dataframe\">\n  <thead>\n    <tr style=\"text-align: right;\">\n      <th></th>\n      <th>Form</th>\n      <th>Frequency</th>\n    </tr>\n  </thead>\n  <tbody>\n    <tr>\n      <th>0</th>\n      <td>a</td>\n      <td>1043535</td>\n    </tr>\n    <tr>\n      <th>1</th>\n      <td>aa</td>\n      <td>10106358</td>\n    </tr>\n    <tr>\n      <th>22</th>\n      <td>aba</td>\n      <td>498635</td>\n    </tr>\n    <tr>\n      <th>23</th>\n      <td>abä</td>\n      <td>210763</td>\n    </tr>\n    <tr>\n      <th>2</th>\n      <td>aaba</td>\n      <td>102811</td>\n    </tr>\n    <tr>\n      <th>3</th>\n      <td>aabä</td>\n      <td>46265</td>\n    </tr>\n    <tr>\n      <th>25</th>\n      <td>abak</td>\n      <td>77108</td>\n    </tr>\n    <tr>\n      <th>26</th>\n      <td>abäk</td>\n      <td>128514</td>\n    </tr>\n    <tr>\n      <th>27</th>\n      <td>abäkke</td>\n      <td>20562</td>\n    </tr>\n    <tr>\n      <th>28</th>\n      <td>abaŋ</td>\n      <td>154217</td>\n    </tr>\n    <tr>\n      <th>24</th>\n      <td>abaar</td>\n      <td>56546</td>\n    </tr>\n    <tr>\n      <th>29</th>\n      <td>Abaram</td>\n      <td>616868</td>\n    </tr>\n    <tr>\n      <th>30</th>\n      <td>Abel</td>\n      <td>35983</td>\n    </tr>\n    <tr>\n      <th>31</th>\n      <td>aben</td>\n      <td>71967</td>\n    </tr>\n    <tr>\n      <th>32</th>\n      <td>abɛ̈k</td>\n      <td>190201</td>\n    </tr>\n    <tr>\n      <th>4</th>\n      <td>aabɛ̈l</td>\n      <td>10281</td>\n    </tr>\n    <tr>\n      <th>33</th>\n      <td>abɛn</td>\n      <td>41124</td>\n    </tr>\n    <tr>\n      <th>34</th>\n      <td>abï</td>\n      <td>4297515</td>\n    </tr>\n    <tr>\n      <th>36</th>\n      <td>abïï</td>\n      <td>25702</td>\n    </tr>\n    <tr>\n      <th>5</th>\n      <td>aabï</td>\n      <td>2416067</td>\n    </tr>\n    <tr>\n      <th>35</th>\n      <td>abiëc</td>\n      <td>195341</td>\n    </tr>\n    <tr>\n      <th>37</th>\n      <td>Abija</td>\n      <td>15421</td>\n    </tr>\n    <tr>\n      <th>38</th>\n      <td>abïk</td>\n      <td>179919</td>\n    </tr>\n    <tr>\n      <th>39</th>\n      <td>abiök</td>\n      <td>30843</td>\n    </tr>\n    <tr>\n      <th>42</th>\n      <td>abiöök</td>\n      <td>35983</td>\n    </tr>\n    <tr>\n      <th>40</th>\n      <td>abiökruɛɛl</td>\n      <td>10281</td>\n    </tr>\n    <tr>\n      <th>41</th>\n      <td>abiöŋ</td>\n      <td>20562</td>\n    </tr>\n    <tr>\n      <th>43</th>\n      <td>Abiöt</td>\n      <td>10281</td>\n    </tr>\n    <tr>\n      <th>44</th>\n      <td>abiöth</td>\n      <td>56546</td>\n    </tr>\n    <tr>\n      <th>45</th>\n      <td>abit</td>\n      <td>10281</td>\n    </tr>\n  </tbody>\n</table>\n</div>"
     },
     "metadata": {},
     "execution_count": 4
    }
   ],
   "source": [
    "ddf = pd.read_csv(\"../word_frequency/unilex/din.txt\", sep='\\t', skiprows = range(2,5))\n",
    "random_ddf = ddf.sample(frac=1)\n",
    "sorted_ddf = elcol.sorted_(random_ddf, lang, random_ddf['Form'])\n",
    "sorted_ddf.head(30)"
   ]
  },
  {
   "source": [
    "### Pandas series"
   ],
   "cell_type": "markdown",
   "metadata": {}
  },
  {
   "cell_type": "code",
   "execution_count": null,
   "metadata": {},
   "outputs": [],
   "source": [
    "random_words = random_ddf['Form']\n",
    "sorted_words = elcol.sorted_(random_words, lang, random_words)"
   ]
  }
 ]
}